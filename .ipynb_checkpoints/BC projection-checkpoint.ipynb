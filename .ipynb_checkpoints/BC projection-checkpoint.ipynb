{
 "cells": [
  {
   "cell_type": "code",
   "execution_count": 29,
   "metadata": {},
   "outputs": [
    {
     "name": "stdout",
     "output_type": "stream",
     "text": [
      "optimize > solve > solving 81 dof system to machine precision using direct solver\n",
      "optimize > solve > solver returned with residual 7e-18\n",
      "optimize > constrained 81/81 dofs\n",
      "optimize > optimum value 1.02e-03\n"
     ]
    },
    {
     "data": {
      "text/plain": [
       "[<matplotlib.lines.Line2D at 0x210a2e2d5c0>]"
      ]
     },
     "execution_count": 29,
     "metadata": {},
     "output_type": "execute_result"
    },
    {
     "data": {
      "image/png": "[encoded data removed]",
      "text/plain": [
       "<Figure size 432x288 with 1 Axes>"
      ]
     },
     "metadata": {
      "needs_background": "light"
     },
     "output_type": "display_data"
    }
   ],
   "source": [
    "import nutils as ntl\n",
    "import numpy as np\n",
    "import matplotlib.pyplot as plt\n",
    "from matplotlib import collections\n",
    "from mpl_toolkits.mplot3d import Axes3D\n",
    "\n",
    "%matplotlib inline\n",
    "\n",
    "degree = 4\n",
    "topo, geom = ntl.mesh.rectilinear([np.linspace(0,1, 21)])\n",
    "ns = ntl.function.Namespace()\n",
    "ns.x = geom\n",
    "ns.N = topo.basis('std', degree = degree)\n",
    "ns.u = 'N_i ?dofs_i'\n",
    "ns.pi = np.pi\n",
    "badbnd, badbnd2 = ntl.function.partition('x_i' @ns, .2)\n",
    "ns.badbnd = badbnd[0]\n",
    "\n",
    "sqr = topo.integral(' (u - badbnd)^2 d:x' @ns, degree = degree * 2)\n",
    "cons = ntl.solver.optimize('dofs', sqr, droptol= 1e-15)\n",
    "\n",
    "bezier = topo.sample('bezier', 10)\n",
    "x = bezier.eval('x_i' @ns)\n",
    "u = bezier.eval('u' @ns, dofs = cons)\n",
    "\n",
    "plt.plot(x, u)"
   ]
  }
 ],
 "metadata": {
  "kernelspec": {
   "display_name": "Python 3",
   "language": "python",
   "name": "python3"
  },
  "language_info": {
   "codemirror_mode": {
    "name": "ipython",
    "version": 3
   },
   "file_extension": ".py",
   "mimetype": "text/x-python",
   "name": "python",
   "nbconvert_exporter": "python",
   "pygments_lexer": "ipython3",
   "version": "3.7.3"
  }
 },
 "nbformat": 4,
 "nbformat_minor": 2
}
