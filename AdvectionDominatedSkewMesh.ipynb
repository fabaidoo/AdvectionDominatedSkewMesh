{
 "cells": [
  {
   "cell_type": "markdown",
   "metadata": {},
   "source": [
    "We solve the steady advection dominated skew to mesh benchmark problem as described in [links go here] using the various methods encountered in class. The problem entails solving the advection diffusion equation on the unit square:\n",
    "\n",
    "$$-\\kappa \\Delta u + \\beta\\cdot \\nabla u = 0  $$\n",
    "\n",
    "with $\\kappa = 10^{-3}$, $\\beta = (.5, 1)$ on a square grid with dirichlet boundary condition \n",
    "\n",
    "$$u = \\begin{cases} 1 & y = 0 \\text{ or } x = 0 \\text{ and } y < 0.2 \\\\ 0 & \\text{otherwise} \\end{cases}   $$ \n",
    "\n",
    "Any reasonably good numerical solution to this problem would have to exhibit minimal oscillation, sharp boundary layers on the top and right sides of the domain as well as a sharp boundary separating the advected trivial left-side boundary condition from the non-trivial left-side boundary condition in the unit square.\n"
   ]
  },
  {
   "cell_type": "code",
   "execution_count": 1,
   "metadata": {},
   "outputs": [],
   "source": [
    "import nutils as ntl\n",
    "import numpy as np\n",
    "import matplotlib.pyplot as plt\n",
    "import inspect\n"
   ]
  },
  {
   "cell_type": "markdown",
   "metadata": {},
   "source": [
    "## Galerkin: what a bad solution might look like\n",
    "\n",
    "**Weak Form**: $$0 = \\int_\\Omega \\kappa \\, N_{A, j}\\cdot u_{, j} \\,-\\, u\\, N_{A, k}\\beta_k \\, dx$$\n",
    "where $N_i$ is a basis function."
   ]
  },
  {
   "cell_type": "code",
   "execution_count": 27,
   "metadata": {},
   "outputs": [
    {
     "name": "stdout",
     "output_type": "stream",
     "text": [
      "optimize > solve > solving 120 dof system to machine precision using direct solver\n",
      "optimize > solve > solver returned with residual 1e-17\n",
      "optimize > constrained 120/961 dofs\n",
      "optimize > optimum value 9.62e-03\n",
      "solve > solving 841 dof system to machine precision using direct solver\n",
      "solve > solver returned with residual 6e-17\n",
      "ADSM_Gal.png\n"
     ]
    }
   ],
   "source": [
    "degree = 1 #degree of basis functions\n",
    "nelems = 30 #number of elements along edge of unit square\n",
    "etype = 'square'\n",
    "\n",
    "topo, geom =  ntl.mesh.unitsquare(nelems, etype) #rectilinear([np.linspace(0,1, nx), np.linspace(0,1, ny) ])\n",
    "ns = ntl.function.Namespace()\n",
    "ns.x = geom\n",
    "ns.beta= np.array([0.5, 1.0])\n",
    "ns.kappa = 1e-3\n",
    "ns.basis = topo.basis('lagrange', degree = degree)\n",
    "ns.u = 'basis_i ?dofs_i'\n",
    "\n",
    "\n",
    "#Dirichlet boundary condition\n",
    "ns.badbnd = topo.boundary['left'].indicator(topo.boundary['left'][0:int(nelems/5)])\n",
    "\n",
    "sqr = topo.boundary['bottom'].integral('(u - 1)^2 d:x' @ ns, degree = degree*2)\n",
    "sqr += topo.boundary['left'].integral( '(u - badbnd)^2 d:x' @ ns, degree = degree*2 )\n",
    "sqr += topo.boundary['right'].integral( '(u - 0)^2 d:x' @ ns, degree = degree*2 )\n",
    "sqr += topo.boundary['top'].integral( '(u - 0)^2 d:x' @ ns, degree = degree*2 )\n",
    "cons = ntl.solver.optimize('dofs', sqr, droptol=1e-15) #this applies the boundary condition to u\n",
    "'''\n",
    "print(topo.boundary['left'][0:int(nelems/5)])    \n",
    "bezier = topo.sample('bezier', 2)\n",
    "bezier2 = topo.boundary['left'].sample('bezier', 2)\n",
    "x = bezier2.eval(ns.x[1])\n",
    "badbnd1 = bezier2.eval(2* topo.boundary['left'].indicator(topo.boundary['left'][0:int(nelems/5)]))\n",
    "print(badbnd1, x)\n",
    "plt.plot(x, badbnd1, '*')\n",
    "''' \n",
    "\n",
    "#residual\n",
    "res = topo.integral( '(kappa basis_i,j u_,j  - u basis_i,n beta_n) d:x' @ ns, degree = degree * 2) \n",
    "\n",
    "lhs = ntl.solver.solve_linear('dofs', res, constrain= cons)\n",
    "\n",
    "bezier = topo.sample('bezier', 2)\n",
    "x = bezier.eval('x_i' @ ns)\n",
    "u = bezier.eval('u' @ ns, dofs = lhs)\n",
    "\n",
    "ntl.export.triplot('ADSM_Gal.png', x, u, tri=bezier.tri, hull=bezier.hull)"
   ]
  },
  {
   "cell_type": "markdown",
   "metadata": {},
   "source": [
    "## SUPG\n",
    "\n",
    "**Weak Form**:\n",
    "$$0 = \\int_\\Omega \\kappa \\, N_{A, j}\\, u_{, j} \\,-\\, u\\, N_{A, k}\\,\\beta_k \\, dx + \\int_\\Omega \\tau\\, \\beta_n N_{A, n} \n",
    "( - \\kappa\\, u_{, mm} + \\beta_k\\, u_{,k}) \\, dx$$\n",
    "\n",
    "We use $\\tau = \\frac{h}{2|\\beta|}$ in the code below"
   ]
  },
  {
   "cell_type": "code",
   "execution_count": 26,
   "metadata": {
    "scrolled": false
   },
   "outputs": [
    {
     "name": "stdout",
     "output_type": "stream",
     "text": [
      "optimize > solve > solving 120 dof system to machine precision using direct solver\n",
      "optimize > solve > solver returned with residual 1e-17\n",
      "optimize > constrained 120/961 dofs\n",
      "optimize > optimum value 9.62e-03\n",
      "solve > solving 841 dof system to machine precision using direct solver\n",
      "solve > solver returned with residual 1e-16\n",
      "ADSM_SUPG.png\n"
     ]
    }
   ],
   "source": [
    "degree = 1 #degree of basis functions\n",
    "nelems = 30 #number of elements along edge of unit square\n",
    "etype = 'square'\n",
    "\n",
    "topo, geom =  ntl.mesh.unitsquare(nelems, etype) #rectilinear([np.linspace(0,1, nx), np.linspace(0,1, ny) ])\n",
    "ns = ntl.function.Namespace()\n",
    "ns.x = geom\n",
    "ns.beta= np.array([0.5, 1.0])\n",
    "ns.kappa = 1e-3\n",
    "ns.basis = topo.basis('lagrange', degree = degree)\n",
    "ns.u = 'basis_i ?dofs_i'\n",
    "\n",
    "#element intrinsic time scale\n",
    "ns.h = np.sqrt(2/nelems**2) #mesh size parameter\n",
    "ns.betanorm = '(beta_i beta_i)^.5'\n",
    "ns.tau = 'h / (2 betanorm)'\n",
    "\n",
    "#dirichlet boundary condition\n",
    "ns.badbnd = topo.boundary['left'].indicator(topo.boundary['left'][0:int(nelems/5)])\n",
    "sqr = topo.boundary['bottom'].integral('(u - 1)^2 d:x' @ ns, degree = degree*2)\n",
    "sqr += topo.boundary['left'].integral( '(u - badbnd)^2 d:x' @ ns, degree = degree*2 )\n",
    "sqr += topo.boundary['right'].integral( '(u - 0)^2 d:x' @ ns, degree = degree*2 )\n",
    "sqr += topo.boundary['top'].integral( '(u - 0)^2 d:x' @ ns, degree = degree*2 )\n",
    "cons = ntl.solver.optimize('dofs', sqr, droptol=1e-15) #this applies the boundary condition to u\n",
    "\n",
    "\n",
    "#residual\n",
    "res = topo.integral( '(kappa basis_i,j u_,j  - u basis_i,n beta_n) d:x' @ ns, degree = degree * 2) \n",
    "res += topo.integral( 'tau beta_k basis_i,k (-kappa u_,jj + beta_n u_,n)  d:x' @ ns, degree = degree * 2) \n",
    "\n",
    "lhs = ntl.solver.solve_linear('dofs', res, constrain= cons)\n",
    "\n",
    "bezier = topo.sample('bezier', 2)\n",
    "x = bezier.eval('x_i' @ ns)\n",
    "u = bezier.eval('u' @ ns, dofs = lhs)\n",
    "\n",
    "\n",
    "ntl.export.triplot('ADSM_SUPG.png', x, u, tri=bezier.tri, hull=bezier.hull)\n",
    "\n",
    "\n",
    "\n",
    "#'''"
   ]
  },
  {
   "cell_type": "markdown",
   "metadata": {},
   "source": [
    "## Galerkin/Least squares"
   ]
  },
  {
   "cell_type": "code",
   "execution_count": 58,
   "metadata": {
    "scrolled": false
   },
   "outputs": [
    {
     "name": "stdout",
     "output_type": "stream",
     "text": [
      "Help on function triplot in module nutils.export:\n",
      "\n",
      "triplot(name, points, values=None, *, tri=None, hull=None, cmap=None, clim=None, linewidth=0.1, linecolor='k')\n",
      "\n",
      "[1, 2, 3, 4, 5, 8, 6, 7]\n"
     ]
    }
   ],
   "source": [
    "#print((beta *beta).sum(0)) #ct.getfullargspec(topo.basis))\n",
    "#elp(np.dot)#(topo.basis)\n",
    "help(ntl.export.triplot)\n",
    "#print(topo.boundary)\n",
    "#help(bezier.eval)\n",
    "a = [1 ,2, 3, 4, 5, 8, 6, 7]\n",
    "print(a[:])"
   ]
  },
  {
   "cell_type": "code",
   "execution_count": 16,
   "metadata": {
    "scrolled": false
   },
   "outputs": [
    {
     "name": "stdout",
     "output_type": "stream",
     "text": [
      "(36, 2)\n"
     ]
    },
    {
     "data": {
      "text/plain": [
       "[<matplotlib.lines.Line2D at 0x1bbcca28080>,\n",
       " <matplotlib.lines.Line2D at 0x1bbcca281d0>,\n",
       " <matplotlib.lines.Line2D at 0x1bbcca28320>,\n",
       " <matplotlib.lines.Line2D at 0x1bbcca28470>,\n",
       " <matplotlib.lines.Line2D at 0x1bbcca285c0>,\n",
       " <matplotlib.lines.Line2D at 0x1bbcca28710>,\n",
       " <matplotlib.lines.Line2D at 0x1bbcca28860>,\n",
       " <matplotlib.lines.Line2D at 0x1bbcca289b0>,\n",
       " <matplotlib.lines.Line2D at 0x1bbcca28b00>,\n",
       " <matplotlib.lines.Line2D at 0x1bbcca28c50>,\n",
       " <matplotlib.lines.Line2D at 0x1bbcca28da0>,\n",
       " <matplotlib.lines.Line2D at 0x1bbcca28ef0>,\n",
       " <matplotlib.lines.Line2D at 0x1bbcca2c080>,\n",
       " <matplotlib.lines.Line2D at 0x1bbcca2c1d0>,\n",
       " <matplotlib.lines.Line2D at 0x1bbcca2c320>,\n",
       " <matplotlib.lines.Line2D at 0x1bbcca2c470>,\n",
       " <matplotlib.lines.Line2D at 0x1bbcca2c5c0>,\n",
       " <matplotlib.lines.Line2D at 0x1bbcca2c710>,\n",
       " <matplotlib.lines.Line2D at 0x1bbcca2c860>,\n",
       " <matplotlib.lines.Line2D at 0x1bbcca2c9b0>,\n",
       " <matplotlib.lines.Line2D at 0x1bbcca2cb00>,\n",
       " <matplotlib.lines.Line2D at 0x1bbcca2cc50>,\n",
       " <matplotlib.lines.Line2D at 0x1bbcca2cda0>,\n",
       " <matplotlib.lines.Line2D at 0x1bbcca2cef0>,\n",
       " <matplotlib.lines.Line2D at 0x1bbcca32080>,\n",
       " <matplotlib.lines.Line2D at 0x1bbcca321d0>,\n",
       " <matplotlib.lines.Line2D at 0x1bbcca32320>,\n",
       " <matplotlib.lines.Line2D at 0x1bbcca32470>,\n",
       " <matplotlib.lines.Line2D at 0x1bbcca325c0>,\n",
       " <matplotlib.lines.Line2D at 0x1bbcca32710>,\n",
       " <matplotlib.lines.Line2D at 0x1bbcca32860>,\n",
       " <matplotlib.lines.Line2D at 0x1bbcca329b0>,\n",
       " <matplotlib.lines.Line2D at 0x1bbcca32b00>,\n",
       " <matplotlib.lines.Line2D at 0x1bbcca32c50>,\n",
       " <matplotlib.lines.Line2D at 0x1bbcca32da0>,\n",
       " <matplotlib.lines.Line2D at 0x1bbcca32ef0>]"
      ]
     },
     "execution_count": 16,
     "metadata": {},
     "output_type": "execute_result"
    },
    {
     "data": {
      "image/png": "[encoded data removed]",
      "text/plain": [
       "<Figure size 432x288 with 1 Axes>"
      ]
     },
     "metadata": {
      "needs_background": "light"
     },
     "output_type": "display_data"
    }
   ],
   "source": [
    "print(bezier.hull.shape)\n",
    "b = bezier.hull\n",
    "B0, B1 = np.meshgrid(b[:,0], b[:, 1])\n",
    "\n",
    "plt.plot(B0, B1, 'k')"
   ]
  },
  {
   "cell_type": "code",
   "execution_count": null,
   "metadata": {},
   "outputs": [],
   "source": []
  }
 ],
 "metadata": {
  "kernelspec": {
   "display_name": "Python 3",
   "language": "python",
   "name": "python3"
  },
  "language_info": {
   "codemirror_mode": {
    "name": "ipython",
    "version": 3
   },
   "file_extension": ".py",
   "mimetype": "text/x-python",
   "name": "python",
   "nbconvert_exporter": "python",
   "pygments_lexer": "ipython3",
   "version": "3.7.3"
  }
 },
 "nbformat": 4,
 "nbformat_minor": 2
}
