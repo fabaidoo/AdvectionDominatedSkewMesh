{
 "cells": [
  {
   "cell_type": "markdown",
   "metadata": {},
   "source": [
    "We solve the advection dominated skew to mesh benchmark problem as described in [links go here] using the various methods encountered in class:\n",
    "\n",
    "$$-\\kappa \\Delta u + \\beta\\cdot \\nabla u = 0  $$\n",
    "\n",
    "with $\\kappa = 10^{-3}$, $\\beta = (.5, 1)$ on a square grid with dirichlet boundary condition \n",
    "\n",
    "$$u = \\begin{cases} 1 & y = 0 \\text{ or } x = 0 \\text{ and } y < 0.2 \\\\ 0 & \\text{otherwise} \\end{cases}   $$ "
   ]
  },
  {
   "cell_type": "code",
   "execution_count": 3,
   "metadata": {},
   "outputs": [],
   "source": [
    "import nutils as ntl\n",
    "import numpy as np\n",
    "import matplotlib.pyplot as plt\n",
    "import inspect\n"
   ]
  },
  {
   "cell_type": "markdown",
   "metadata": {},
   "source": [
    "## SUPG\n",
    "\n",
    "We use SUPG to solve the advection dominated skew to mesh benchmark problem as described in [links go here]:\n",
    "\n",
    "$$-\\kappa \\Delta u + \\beta\\cdot \\nabla u = 0  $$\n",
    "\n",
    "with $\\kappa = 10^{-3}$, $\\beta = (.5, 1)$ on a square grid with dirichlet boundary condition \n",
    "\n",
    "$$u = \\begin{cases} 1 & y = 0 \\text{ or } x = 0 \\text{ and } y < 0.2 \\\\ 0 & \\text{otherwise} \\end{cases}   $$ "
   ]
  },
  {
   "cell_type": "code",
   "execution_count": 66,
   "metadata": {
    "scrolled": false
   },
   "outputs": [
    {
     "name": "stdout",
     "output_type": "stream",
     "text": [
      "optimize > solve > solving 7 dof system to machine precision using direct solver\n",
      "optimize > solve > solver returned with residual 1e-16\n",
      "optimize > constrained 7/16 dofs\n",
      "optimize > optimum value 4.79e-02\n",
      "solve > solving 9 dof system to machine precision using direct solver\n",
      "solve > solver returned with residual 4e-17\n",
      "ADSM_SUPG_messtype.png\n"
     ]
    }
   ],
   "source": [
    "degree = 1 #degree of basis functions\n",
    "nelems = 20 #number of elements along edge of unit square\n",
    "etype = 'square'\n",
    "\n",
    "topo, geom =  ntl.mesh.unitsquare(nelems, etype) #rectilinear([np.linspace(0,1, nx), np.linspace(0,1, ny) ])\n",
    "ns = ntl.function.Namespace()\n",
    "ns.x = geom\n",
    "ns.beta= np.array([0.5, 1.0])\n",
    "ns.kappa = 1e-3\n",
    "ns.basis = topo.basis('lagrange', degree = degree)\n",
    "ns.u = 'basis_i ?dofs_i'\n",
    "\n",
    "#element intrinsic time scale\n",
    "ns.h = 0.5*np.sqrt(2/nelems**2) #mesh size parameter\n",
    "ns.betanorm = 'beta_i beta_i'\n",
    "ns.tau = 'h / (2 betanorm)'\n",
    "\n",
    "#dirichlet boundary condition\n",
    "ns.badbnd = topo.boundary['left'].indicator(topo.boundary['left'][0:int(nelems/2)])\n",
    "\n",
    "'''\n",
    "print(topo.boundary['left'][0:int(nelems/5)])    \n",
    "bezier = topo.sample('bezier', 2)\n",
    "bezier2 = topo.boundary['left'].sample('bezier', 2)\n",
    "x = bezier2.eval(ns.x[1])\n",
    "badbnd1 = bezier2.eval(2* topo.boundary['left'].indicator(topo.boundary['left'][0:int(nelems/5)]))\n",
    "print(badbnd1, x)\n",
    "plt.plot(x, badbnd1, '*')\n",
    "''' \n",
    "\n",
    "sqr = topo.boundary['bottom'].integral('(u - 1)^2 d:x' @ ns, degree = degree*2)\n",
    "sqr += topo.boundary['left'].integral( '(u - badbnd)^2 d:x' @ ns, degree = degree*2 )\n",
    "cons = ntl.solver.optimize('dofs', sqr, droptol=1e-15)\n",
    "\n",
    "#residual\n",
    "res = topo.integral( 'kappa basis_i,j u_,j d:x' @ ns, degree = degree * 2)\n",
    "res += topo.integral( 'tau beta_k basis_i,k (-kappa u_,jj + beta_n u_,n)  d:x' @ ns, degree = degree * 2) \n",
    "\n",
    "lhs = ntl.solver.solve_linear('dofs', res, constrain= cons)\n",
    "\n",
    "bezier = topo.sample('bezier', 2)\n",
    "x = bezier.eval('x_i' @ ns)\n",
    "u = bezier.eval('u' @ ns, dofs = lhs)\n",
    "\n",
    "\n",
    "ntl.export.triplot('ADSM_SUPG_messtype.png', x, u, tri=bezier.tri, hull=bezier.hull)\n",
    "\n",
    "\n",
    "\n",
    "#'''"
   ]
  },
  {
   "cell_type": "code",
   "execution_count": 58,
   "metadata": {
    "scrolled": false
   },
   "outputs": [
    {
     "name": "stdout",
     "output_type": "stream",
     "text": [
      "Help on function triplot in module nutils.export:\n",
      "\n",
      "triplot(name, points, values=None, *, tri=None, hull=None, cmap=None, clim=None, linewidth=0.1, linecolor='k')\n",
      "\n",
      "[1, 2, 3, 4, 5, 8, 6, 7]\n"
     ]
    }
   ],
   "source": [
    "#print((beta *beta).sum(0)) #ct.getfullargspec(topo.basis))\n",
    "#elp(np.dot)#(topo.basis)\n",
    "help(ntl.export.triplot)\n",
    "#print(topo.boundary)\n",
    "#help(bezier.eval)\n",
    "a = [1 ,2, 3, 4, 5, 8, 6, 7]\n",
    "print(a[:])"
   ]
  },
  {
   "cell_type": "code",
   "execution_count": null,
   "metadata": {},
   "outputs": [],
   "source": []
  }
 ],
 "metadata": {
  "kernelspec": {
   "display_name": "Python 3",
   "language": "python",
   "name": "python3"
  },
  "language_info": {
   "codemirror_mode": {
    "name": "ipython",
    "version": 3
   },
   "file_extension": ".py",
   "mimetype": "text/x-python",
   "name": "python",
   "nbconvert_exporter": "python",
   "pygments_lexer": "ipython3",
   "version": "3.7.4"
  }
 },
 "nbformat": 4,
 "nbformat_minor": 2
}
